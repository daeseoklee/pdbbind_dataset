{
 "cells": [
  {
   "cell_type": "code",
   "execution_count": 1,
   "id": "f28e493a-0311-4e87-a841-97a772e57693",
   "metadata": {},
   "outputs": [],
   "source": [
    "from multiprocessing import Pool \n",
    "from pathlib import Path\n",
    "from random import randint\n",
    "from tqdm import tqdm\n",
    "from matplotlib import pyplot as plt\n",
    "import pickle"
   ]
  },
  {
   "cell_type": "code",
   "execution_count": 2,
   "id": "0b547232-1844-4f68-9796-e3e1beb20e97",
   "metadata": {},
   "outputs": [],
   "source": [
    "import json \n",
    "with open('het_smiles.json', 'r') as reader:\n",
    "    smiles_dict = json.load(reader)"
   ]
  },
  {
   "cell_type": "code",
   "execution_count": 3,
   "id": "3e22ee64-9694-485e-8b17-45ae45f326c4",
   "metadata": {},
   "outputs": [],
   "source": [
    "def get_split_chainstrs(split):\n",
    "    s = set([])\n",
    "    with open('./fasta_files/v2_test_expanded.tsv', 'r') as reader:\n",
    "        for line in reader:\n",
    "            _, chainstr, qcov, evalue = line.split()\n",
    "            if float(qcov) >= 0.5 and float(evalue) < 0.001:\n",
    "                s.add(chainstr)\n",
    "    if split == 'test':\n",
    "        return s \n",
    "    assert split == 'dev' \n",
    "    s2 = set([])\n",
    "    \n",
    "    with open('./fasta_files/v2_dev_expanded.tsv', 'r') as reader:\n",
    "        for line in reader:\n",
    "            _, chainstr, qcov, evalue = line.split()\n",
    "            if float(qcov) >= 0.5 and float(evalue) < 0.001 and not chainstr in s:\n",
    "                s2.add(chainstr)\n",
    "    return s2\n",
    "                "
   ]
  },
  {
   "cell_type": "code",
   "execution_count": 4,
   "id": "a2640be9-c140-4078-be09-d88ae7a02e79",
   "metadata": {},
   "outputs": [],
   "source": [
    "from collections import OrderedDict as odict"
   ]
  },
  {
   "cell_type": "code",
   "execution_count": 67,
   "id": "a97e6b15-768f-4d2b-8cef-19b6e6ccfc91",
   "metadata": {},
   "outputs": [],
   "source": [
    "def get_code_list():\n",
    "    l = []\n",
    "    pdb_dir = Path('./dataset_ver2')\n",
    "    for subdir in pdb_dir.glob('*'):\n",
    "        for file in subdir.glob('*'):\n",
    "            code = file.stem\n",
    "            l.append(code)\n",
    "    return l \n",
    "def split_code_list(l, k):\n",
    "    partition = [[] for _ in range(k)] \n",
    "    for code in l: \n",
    "        partition[randint(0, k - 1)].append(code)\n",
    "    split_log_dir = Path('./inspect_logs/splits')\n",
    "    split_log_dir.mkdir(exist_ok=True)\n",
    "    for i in range(k):\n",
    "        split_log_file = split_log_dir / f'{i+1}.txt'\n",
    "        with open(split_log_file, 'w') as writer:\n",
    "            for code in partition[i]:\n",
    "                writer.write(f'{code}\\n')\n",
    "                \n",
    "def get_split(i):\n",
    "    split_log_dir = Path('./inspect_logs/splits')\n",
    "    split_log_file = split_log_dir / f'{i+1}.txt'\n",
    "    with open(split_log_file, 'r') as reader:\n",
    "        l = [line.strip() for line in reader.readlines() if line.strip() != '']\n",
    "    return l "
   ]
  },
  {
   "cell_type": "code",
   "execution_count": 6,
   "id": "32584e3e-d5be-4fb3-931c-dac567143866",
   "metadata": {},
   "outputs": [],
   "source": [
    "import numpy as np"
   ]
  },
  {
   "cell_type": "code",
   "execution_count": 7,
   "id": "11f4511e-c537-4909-ad98-60501b6f7d72",
   "metadata": {},
   "outputs": [],
   "source": [
    "convert_residue = {\n",
    "'ALA':'A', 'VAL':'V', 'PHE':'F', 'PRO':'P', 'MET':'M',\n",
    "'ILE':'I', 'LEU':'L', 'ASP':'D', 'GLU':'E', 'LYS':'K',\n",
    "'ARG':'R', 'SER':'S', 'THR':'T', 'TYR':'Y', 'HIS':'H',\n",
    "'CYS':'C', 'ASN':'N', 'GLN':'Q', 'TRP':'W', 'GLY':'G',\n",
    "'MSE':'M', 'ASX':'B', 'UNK' : 'X', 'SEC':'U','PYL':'O'\n",
    "}\n"
   ]
  },
  {
   "cell_type": "code",
   "execution_count": 8,
   "id": "a1a444bf-1fc6-40eb-9b92-5b0cd4c00bf9",
   "metadata": {},
   "outputs": [],
   "source": [
    "inttype_to_idx = {\n",
    "    'DIST': 0,\n",
    "    'NOIT': 1,\n",
    "    'HBPD': 2,\n",
    "    'HDPH': 3,\n",
    "    'SBLN': 4,\n",
    "    'PIST': 5,\n",
    "    'WBPD': 6,\n",
    "    'HBLD': 7,\n",
    "    'WBLD': 8,\n",
    "    'PCLA': 9,\n",
    "    'MTAL': 10,\n",
    "    'SBPN': 11,\n",
    "    'HALO': 12,\n",
    "    'PCPA': 13\n",
    "}\n",
    "inttype_list = list(inttype_to_idx.keys())"
   ]
  },
  {
   "cell_type": "code",
   "execution_count": 69,
   "id": "1ed74e95-d6e1-4972-9faa-ea2c28b37ecf",
   "metadata": {},
   "outputs": [],
   "source": [
    "def get_data_dict(i, excluded):\n",
    "    data_dict = {} #(sequence, smiles) |-> (int_dists, int_types, chainstr) \n",
    "    dataset_dir = Path('./dataset_ver2')\n",
    "    for code in tqdm(get_split(i)):\n",
    "        update_data_dict_(dataset_dir, code, data_dict, excluded)\n",
    "    return data_dict\n",
    "\n",
    "def update_smaller(d, d1):\n",
    "    for key, val in d1.items():\n",
    "        if key in d:\n",
    "            if val < d[key]:\n",
    "                d[key] = val \n",
    "        else:\n",
    "            d[key] = val\n",
    "        \n",
    "def update_data_dict_(dataset_dir, code, data_dict, excluded):\n",
    "    data_dir = dataset_dir / code[1:3] / code\n",
    "\n",
    "\n",
    "    chainID_to_coords = {}\n",
    "    chainID_to_coords_mask = {}\n",
    "    chainID_to_res_mask = {}\n",
    "    excluded_chainIDs = set([])\n",
    "\n",
    "    excluded_hetcodes = set([])\n",
    "\n",
    "    chainID_to_hetcode_to_int_dists = {}\n",
    "    chainID_to_hetcode_to_int_types = {} \n",
    "\n",
    "\n",
    "    \"\"\"\n",
    "    sequences => \n",
    "    To fill:\n",
    "        -excluded_chainIDs \n",
    "        -chainID_to_coords\n",
    "        -chainID_to_coords_mask \n",
    "    \"\"\"\n",
    "\n",
    "    candidate_chains = {}\n",
    "    seqs_file = data_dir / 'sequences.txt'\n",
    "    if not seqs_file.exists():\n",
    "        return\n",
    "    with open(seqs_file ,'r') as reader:\n",
    "        for line in reader:\n",
    "            chainID, seq = line.split(':', maxsplit=1)\n",
    "            residues = [seq[i:i+3] for i in range(1, len(seq)-2, 4)]\n",
    "            seq = ''.join([convert_residue.get(res, 'X') for res in residues])\n",
    "            if f'{code}:{chainID}' in excluded:\n",
    "                excluded_chainIDs.add(chainID)\n",
    "                continue \n",
    "            if len(seq) > 1500:\n",
    "                excluded_chainIDs.add(chainID) \n",
    "                continue \n",
    "            candidate_chains[chainID] = seq\n",
    "    for chainID, seq in candidate_chains.items():\n",
    "        coords = [[] for _ in range(len(seq))]\n",
    "        res_mask = [False for _ in range(len(seq))] #alpha carbon present\n",
    "        with open(data_dir / f'{code}:{chainID}.pdb', 'r') as reader:\n",
    "            for line in reader:\n",
    "                if not line.startswith('ATOM'):\n",
    "                    continue \n",
    "                resSeq = int(line[22:26])\n",
    "                x, y, z = float(line[30:38]), float(line[38:46]), float(line[46:54])\n",
    "                atomname = line[12:16].strip()\n",
    "                try:\n",
    "                    coords[resSeq-1].append([x, y, z])\n",
    "                    if atomname == 'CA':\n",
    "                        res_mask[resSeq-1] = True\n",
    "                except:\n",
    "                    raise Exception(code, resSeq)\n",
    "        if all([res_coords == [] for res_coords in coords]):\n",
    "            excluded_chains.add(chainID)\n",
    "        if sum(res_mask) == 0:\n",
    "            excluded_chains.add(chainID)\n",
    "        res_mask = np.array(res_mask)\n",
    "        chainID_to_res_mask[chainID] = res_mask\n",
    "        max_len = max(len(res_coords) for res_coords in coords)\n",
    "        coords_mask = [[True] * len(res_coords) + [False] * (max_len - len(res_coords)) for res_coords in coords]\n",
    "        coords = [res_coords + [[0.,0.,0.] for _ in range(max_len - len(res_coords))] for res_coords in coords]\n",
    "        coords_mask = np.array(coords_mask)\n",
    "        coords = np.array(coords)\n",
    "        chainID_to_coords_mask[chainID] = coords_mask\n",
    "        chainID_to_coords[chainID] = coords\n",
    "\n",
    "\n",
    "    \"\"\"\n",
    "    components => interactions => ligand  \n",
    "    To use:\n",
    "        -excluded_chainIDs \n",
    "        -chainID_to_coords\n",
    "        -chainID_to_coords_mask \n",
    "    To fill:\n",
    "        -excluded_hetcodes = set([])\n",
    "        -chainID_to_hetcode_to_int_dists = {} \n",
    "        -chainID_to_hetcode_to_int_types = {} \n",
    "    \"\"\"\n",
    "\n",
    "    for comp_file in data_dir.glob('components-*.txt'):\n",
    "        n = int(comp_file.stem.split('-')[1]) \n",
    "        current_chainIDs = [] \n",
    "        with open(comp_file, 'r') as reader:\n",
    "            current_hetcode = next(reader).strip()\n",
    "            for line in reader:\n",
    "                current_chainIDs.append(line.strip())\n",
    "        if current_hetcode in excluded_hetcodes:\n",
    "            continue \n",
    "\n",
    "        ligand_file = data_dir / f'{code}_ligand-{n}.pdb'\n",
    "        with open(ligand_file, 'r') as reader:\n",
    "            \"\"\"\n",
    "            Get coordinate and atomname information \n",
    "            \"\"\"\n",
    "            ligand_atomnames = []\n",
    "            ligand_coords = [] \n",
    "            for line in reader:\n",
    "                if not line.startswith('HETATM'):\n",
    "                    continue \n",
    "                atomname = line[12:16].strip()\n",
    "                x, y, z = float(line[30:38]), float(line[38:46]), float(line[46:54])\n",
    "                ligand_atomnames.append(atomname)\n",
    "                ligand_coords.append([x,y,z])\n",
    "            ligand_coords = np.array(ligand_coords)\n",
    "        if len(ligand_atomnames) > 80:\n",
    "            continue\n",
    "\n",
    "        \"\"\"\n",
    "        Fill in chainID_to_hetcode_to_int_dists\n",
    "        \"\"\"\n",
    "        chainID_to_dist_matrix = {} #local \n",
    "        chainID_to_int_dists = {} #local \n",
    "        chainID_to_int_types = {} #local\n",
    "        for chainID in current_chainIDs:\n",
    "            if chainID in excluded_chainIDs:\n",
    "                continue\n",
    "\n",
    "            int_dists = {}\n",
    "            int_types = {}\n",
    "\n",
    "            coords = chainID_to_coords[chainID]\n",
    "            coord_mask = chainID_to_coords_mask[chainID] \n",
    "            diff = coords[:, :, None, :] - ligand_coords[None, None, :, :]\n",
    "            dist = np.sqrt(np.sum(diff ** 2, axis=-1))\n",
    "            dist_matrix = np.min(np.where(coord_mask[:, :, None], dist, np.inf), axis=1) \n",
    "            #residue-atom distances, (if no residue coordinate is provided, infinity)\n",
    "            for i, j in zip(*np.where(dist_matrix < 7.0)):\n",
    "                int_dists[(i,j)] = dist_matrix[i, j] \n",
    "            #for i, j in int_dists:\n",
    "            #    int_types[(i, j)] = 'NOTY'\n",
    "\n",
    "            chainID_to_dist_matrix[chainID] = dist_matrix\n",
    "            chainID_to_int_dists[chainID] = int_dists\n",
    "            chainID_to_int_types[chainID] = int_types\n",
    "\n",
    "\n",
    "        plip_file = data_dir / f'plip_interactions-{n}.txt'\n",
    "        with open(plip_file, 'r') as reader:\n",
    "            \"\"\"\n",
    "            Supplement chainID_to_hetcode_to_int_dists and \n",
    "            fill in chainID_to_hetcode_to_int_types\n",
    "            \"\"\"\n",
    "            for line in reader:\n",
    "                chainID, resSeq, atomname, int_type = line.split() \n",
    "                if not chainID in chainID_to_dist_matrix:\n",
    "                    continue \n",
    "                i = int(resSeq) - 1\n",
    "                j = ligand_atomnames.index(atomname) \n",
    "                chainID_to_int_types[chainID][(i, j)] = inttype_to_idx[int_type]\n",
    "                distance = chainID_to_dist_matrix[chainID][i, j]\n",
    "                if not (i, j) in chainID_to_int_dists[chainID] or distance < chainID_to_int_dists[chainID][(i, j)]:\n",
    "                    chainID_to_int_dists[chainID][(i, j)] = distance\n",
    "\n",
    "        for chainID in chainID_to_dist_matrix:\n",
    "            if not chainID in chainID_to_hetcode_to_int_dists:\n",
    "                chainID_to_hetcode_to_int_dists[chainID] = {}\n",
    "            if not current_hetcode in chainID_to_hetcode_to_int_dists[chainID]:\n",
    "                chainID_to_hetcode_to_int_dists[chainID][current_hetcode] = {}\n",
    "            new = chainID_to_int_dists[chainID]\n",
    "            update_smaller(chainID_to_hetcode_to_int_dists[chainID][current_hetcode], new)\n",
    "                    \n",
    "            if not chainID in chainID_to_hetcode_to_int_types:\n",
    "                chainID_to_hetcode_to_int_types[chainID] = {}\n",
    "            if not current_hetcode in chainID_to_hetcode_to_int_types[chainID]:\n",
    "                chainID_to_hetcode_to_int_types[chainID][current_hetcode] = {} \n",
    "            new = chainID_to_int_types[chainID]\n",
    "            chainID_to_hetcode_to_int_types[chainID][current_hetcode].update(new) \n",
    "            \n",
    "\n",
    "    hetcode_to_smiles = {}\n",
    "    with open(data_dir / 'smiles.txt', 'r') as reader:\n",
    "        for line in reader:\n",
    "            hetcode, smiles = line.split(':')\n",
    "            smiles = smiles.strip() \n",
    "            hetcode_to_smiles[hetcode] = smiles \n",
    "\n",
    "    for chainID in chainID_to_hetcode_to_int_types:\n",
    "        seq = candidate_chains[chainID]\n",
    "        res_mask = chainID_to_res_mask[chainID]\n",
    "        for hetcode in chainID_to_hetcode_to_int_types[chainID]:\n",
    "            smiles = hetcode_to_smiles[hetcode]\n",
    "            if (seq, smiles) in data_dict:\n",
    "                continue \n",
    "\n",
    "            int_dists = chainID_to_hetcode_to_int_dists[chainID][hetcode]\n",
    "            int_types = chainID_to_hetcode_to_int_types[chainID][hetcode]\n",
    "            chainstr = f'{code}:{chainID}'\n",
    "\n",
    "            data_dict[(seq, smiles)] = (int_dists, int_types, chainstr, hetcode, res_mask)\n",
    "                \n",
    "\n"
   ]
  },
  {
   "cell_type": "code",
   "execution_count": 70,
   "id": "4fd81b14-7e69-44fd-8efe-e9bc39d03982",
   "metadata": {},
   "outputs": [],
   "source": [
    "def filter_data(seq, smiles, int_dists, int_types, chainstr, hetcode, res_mask):\n",
    "    if len(seq) < 20:\n",
    "        return False\n",
    "    if seq.count('X') > len(seq) / 100:\n",
    "        return False\n",
    "    \n",
    "    ok = False \n",
    "    for (i, j), dist in int_dists.items():\n",
    "        if dist < 5.0:\n",
    "            ok = True\n",
    "            break\n",
    "    if not ok:\n",
    "        return False\n",
    "    \n",
    "    return True"
   ]
  },
  {
   "cell_type": "code",
   "execution_count": 71,
   "id": "d564be07-3bb4-42a6-9491-d66621899b7f",
   "metadata": {
    "tags": []
   },
   "outputs": [
    {
     "name": "stderr",
     "output_type": "stream",
     "text": [
      "100%|███████████████████████████████████████| 2880/2880 [04:15<00:00, 11.28it/s]\n",
      " 94%|████████████████████████████████████▋  | 2729/2905 [04:22<00:26,  6.60it/s]\n",
      "100%|███████████████████████████████████████| 2869/2869 [04:26<00:00, 10.76it/s]\n",
      "100%|███████████████████████████████████████| 2918/2918 [04:27<00:00, 10.92it/s]\n",
      "100%|███████████████████████████████████████| 2913/2913 [04:29<00:00, 10.80it/s]\n",
      "100%|███████████████████████████████████████| 2847/2847 [04:31<00:00, 10.50it/s]\n",
      "100%|███████████████████████████████████████| 2865/2865 [04:32<00:00, 10.51it/s]\n",
      "100%|███████████████████████████████████████| 2874/2874 [04:34<00:00, 10.49it/s]\n",
      " 94%|████████████████████████████████████▋  | 2694/2862 [04:34<00:12, 13.84it/s]\n",
      "100%|███████████████████████████████████████| 2846/2846 [04:34<00:00, 10.37it/s]\n",
      "100%|███████████████████████████████████████| 2823/2823 [04:35<00:00, 10.25it/s]\n",
      "100%|███████████████████████████████████████| 2885/2885 [04:37<00:00, 10.40it/s]\n",
      "100%|███████████████████████████████████████| 2905/2905 [04:38<00:00, 10.45it/s]\n",
      "100%|███████████████████████████████████████| 2824/2824 [04:38<00:00, 10.15it/s]\n",
      " 96%|█████████████████████████████████████▋ | 2825/2928 [04:38<00:10,  9.53it/s]\n",
      "100%|███████████████████████████████████████| 2804/2804 [04:38<00:00, 10.05it/s]\n",
      "100%|███████████████████████████████████████| 2845/2845 [04:40<00:00, 10.16it/s]\n",
      "100%|███████████████████████████████████████| 2905/2905 [04:40<00:00, 10.37it/s]\n",
      "100%|███████████████████████████████████████| 2877/2877 [04:40<00:00, 10.26it/s]\n",
      "100%|███████████████████████████████████████| 2827/2827 [04:41<00:00, 10.05it/s]\n",
      "100%|███████████████████████████████████████| 2954/2954 [04:41<00:00, 10.50it/s]\n",
      "100%|███████████████████████████████████████| 2897/2897 [04:41<00:00, 10.28it/s]\n",
      "100%|███████████████████████████████████████| 2884/2884 [04:41<00:00, 10.24it/s]\n",
      "100%|███████████████████████████████████████| 2892/2892 [04:42<00:00, 10.24it/s]\n",
      "100%|███████████████████████████████████████| 2980/2980 [04:42<00:00, 10.55it/s]\n",
      "100%|███████████████████████████████████████| 2847/2847 [04:42<00:00, 10.07it/s]\n",
      "100%|███████████████████████████████████████| 2826/2826 [04:45<00:00,  9.89it/s]\n",
      "100%|███████████████████████████████████████| 2928/2928 [04:48<00:00, 10.15it/s]\n",
      "100%|███████████████████████████████████████| 2862/2862 [04:48<00:00,  9.91it/s]\n",
      "100%|███████████████████████████████████████| 2917/2917 [04:53<00:00,  9.93it/s]\n"
     ]
    }
   ],
   "source": [
    "#codes = get_code_list()\n",
    "#split_code_list(codes, 30)\n",
    "no_exclude = set([])\n",
    "with Pool(30) as pool:\n",
    "    ds = pool.starmap(get_data_dict, [(i, no_exclude) for i in range(30)])\n",
    "d = {}\n",
    "for dd in ds:\n",
    "    d.update(dd)"
   ]
  },
  {
   "cell_type": "code",
   "execution_count": 72,
   "id": "732ea9a1-81ba-4b0d-9e15-926a02328355",
   "metadata": {},
   "outputs": [
    {
     "data": {
      "text/plain": [
       "109540"
      ]
     },
     "execution_count": 72,
     "metadata": {},
     "output_type": "execute_result"
    }
   ],
   "source": [
    "len(d)"
   ]
  },
  {
   "cell_type": "code",
   "execution_count": 73,
   "id": "06339def-70ce-414e-b36e-62af5489a4a5",
   "metadata": {},
   "outputs": [],
   "source": [
    "d2 = {(seq, smiles): t for (seq, smiles), t in d.items() if filter_data(seq, smiles, *t)}"
   ]
  },
  {
   "cell_type": "code",
   "execution_count": 74,
   "id": "920500b5-9c18-416e-a6b9-4b1c4de24463",
   "metadata": {},
   "outputs": [
    {
     "data": {
      "text/plain": [
       "107238"
      ]
     },
     "execution_count": 74,
     "metadata": {},
     "output_type": "execute_result"
    }
   ],
   "source": [
    "len(d2)"
   ]
  },
  {
   "cell_type": "code",
   "execution_count": 75,
   "id": "0406aa2d-6ffa-45b4-a1b6-ce3217040f4e",
   "metadata": {},
   "outputs": [],
   "source": [
    "#np.save('derived_dataset_ver2/all_d_dict.npy', d2)"
   ]
  },
  {
   "cell_type": "code",
   "execution_count": 76,
   "id": "173a09e2-d39d-4365-94af-b49d80c9b92b",
   "metadata": {},
   "outputs": [],
   "source": [
    "chainstr_of_interest = ['3lu8:B', '2xvq:B', '4lb2:B', '2bxc:B', '5id7:B', '2vuf:B', '6a7p:B', '1e7a:B', '5x52:B', '5z0b:C', '5z0b:B', '2bxa:B', '2bx8:B', '5vnw:B', '4la0:B', '4l9k:B', '3uiv:H', '3lu7:B', '3a73:B', '4z69:I', '2bxg:B', '2bxh:B', '2bxd:B', '7d6j:B', '2vue:B', '2bxf:B', '2bxe:B', '6wuw:B', '3lu6:B', '2xvu:B', '5yoq:B', '2ydf:B', '2bxb:B', '5ujb:B', '6hsc:B', '3sqj:B', '5yb1:B', '6l4k:I', '5gix:B', '6qs9:B', '4or0:B', '4jk4:B', '5otb:B', '5otb:C', '5otb:D', '5orf:B', '5orf:C', '5orf:D', '1j78:B', '1j7e:B']"
   ]
  },
  {
   "cell_type": "code",
   "execution_count": 77,
   "id": "ca625d62-965b-4ccd-a4d3-174544d7dda9",
   "metadata": {},
   "outputs": [
    {
     "name": "stdout",
     "output_type": "stream",
     "text": [
      "CCCCCCCCCCCCCCCC(=O)O\n",
      "{(113, 16): 4, (113, 17): 4, (141, 12): 3, (145, 16): 4, (145, 17): 4, (160, 6): 3, (160, 2): 3, (184, 7): 3, (185, 16): 4, (185, 17): 4, (189, 13): 3}\n",
      "--------------\n",
      "OCCOCCOCCOCCO\n",
      "{(322, 12): 2, (357, 0): 6, (357, 12): 7, (248, 3): 2}\n",
      "--------------\n",
      "CCCCC/C=C\\C/C=C\\CCCCCCCC(=O)O\n",
      "{(194, 7): 3, (194, 5): 3, (197, 1): 3, (198, 1): 3, (198, 13): 3, (198, 18): 4, (198, 19): 4, (210, 12): 3, (210, 11): 3, (213, 10): 3, (213, 4): 3, (213, 2): 3, (214, 12): 3, (221, 19): 6, (450, 8): 3, (451, 0): 3, (454, 5): 3}\n",
      "--------------\n",
      "OCCOCCOCCOCCOCCO\n",
      "{(322, 3): 2, (357, 0): 7}\n",
      "--------------\n"
     ]
    }
   ],
   "source": [
    "for (seq, smiles), (int_dists, int_types, chainstr, hetcode, res_mask) in d2.items():\n",
    "    if chainstr.split(':')[0] == '5z0b':\n",
    "        print(smiles)\n",
    "        print(int_types)\n",
    "        print('--------------')\n"
   ]
  },
  {
   "cell_type": "code",
   "execution_count": 78,
   "id": "de1df15c-e95c-4dbf-898b-f24c8a7b078c",
   "metadata": {},
   "outputs": [
    {
     "name": "stdout",
     "output_type": "stream",
     "text": [
      "2153\n",
      "3595\n",
      "train_d size: 105453\n",
      "dev_d size: 652\n",
      "test_d size: 1133\n"
     ]
    }
   ],
   "source": [
    "dev_split = get_split_chainstrs('dev')\n",
    "test_split = get_split_chainstrs('test')\n",
    "print(len(dev_split))\n",
    "print(len(test_split))\n",
    "train_d = {key: val for key, val in d2.items() if not val[2] in dev_split and not val[2] in test_split}\n",
    "dev_d = {key: val for key, val in d2.items() if val[2] in dev_split}\n",
    "test_d = {key: val for key, val in d2.items() if val[2] in test_split}\n",
    "print('train_d size:', len(train_d))\n",
    "print('dev_d size:', len(dev_d))\n",
    "print('test_d size:', len(test_d))\n",
    "with open('derived_dataset_ver2/train_data_dict.pkl', 'wb') as f:\n",
    "    pickle.dump(train_d, f)\n",
    "with open('derived_dataset_ver2/dev_data_dict.pkl', 'wb') as f:\n",
    "    pickle.dump(dev_d, f)\n",
    "with open('derived_dataset_ver2/test_data_dict.pkl', 'wb') as f:\n",
    "    pickle.dump(test_d, f)"
   ]
  },
  {
   "cell_type": "code",
   "execution_count": 79,
   "id": "4d2cdf78-ec78-4040-8543-ece6298ec38d",
   "metadata": {
    "jp-MarkdownHeadingCollapsed": true,
    "tags": []
   },
   "outputs": [
    {
     "data": {
      "image/png": "[encoded data removed]",
      "text/plain": [
       "<Figure size 864x720 with 12 Axes>"
      ]
     },
     "metadata": {
      "needs_background": "light"
     },
     "output_type": "display_data"
    }
   ],
   "source": [
    "dists = {}\n",
    "for int_dists, int_types, _, _, _ in train_d.values():\n",
    "    for (i, j), inttype_label in int_types.items():\n",
    "        inttype = inttype_list[inttype_label]\n",
    "        dist = int_dists[(i, j)]\n",
    "        if not inttype in dists:\n",
    "            dists[inttype] = []\n",
    "        dists[inttype].append(dist)\n",
    "dists = [(inttype, l) for inttype, l in dists.items()]\n",
    "dists.sort(key=lambda p:-len(p[1]))\n",
    "plt.figure(figsize=(12,10))\n",
    "for i, (inttype, l) in enumerate(dists, start=1):\n",
    "    plt.subplot(3, 4, i)\n",
    "    plt.title(f'{inttype} - {len(l)}')\n",
    "    plt.hist(l, 100)\n",
    "plt.show()\n",
    "\n",
    "with open('derived_dataset_ver2/inttype_train_frequency.txt', 'w') as writer:\n",
    "    writer.write('0: DIST - None\\n')\n",
    "    writer.write('1: NOIT - None\\n')\n",
    "    for i, (inttype, l) in enumerate(dists, start=2):\n",
    "        writer.write(f'{i}: {inttype} - {len(l)}\\n')"
   ]
  },
  {
   "cell_type": "code",
   "execution_count": 80,
   "id": "4f3c61a9-132b-4d87-8d68-6e3b2c0476fa",
   "metadata": {},
   "outputs": [],
   "source": [
    "train_inttype_occ = [0 for _ in inttype_list]\n",
    "for (fasta, smiles), (int_dists, int_types, _, _, _) in train_d.items():\n",
    "    for inttype in set(int_types.values()):\n",
    "        train_inttype_occ[inttype] += 1\n",
    "with open('derived_dataset_ver2/inttype_train_occurrence.txt', 'w') as writer:\n",
    "    writer.write(f'0: DIST - {None}\\n')\n",
    "    writer.write(f'1: NOIT - {None}\\n')\n",
    "    for i, inttype in enumerate(inttype_list[2:], start=2):\n",
    "        writer.write('{}: {} - {}\\n'.format(i, inttype, train_inttype_occ[i]))\n",
    "    "
   ]
  },
  {
   "cell_type": "code",
   "execution_count": 81,
   "id": "39b98e30-2a8a-4ced-8421-9f15008562dd",
   "metadata": {},
   "outputs": [],
   "source": [
    "dev_inttype_occ = [0 for _ in inttype_list]\n",
    "for (fasta, smiles), (int_dists, int_types, _, _, _) in dev_d.items():\n",
    "    for inttype in set(int_types.values()):\n",
    "        dev_inttype_occ[inttype] += 1\n",
    "with open('derived_dataset_ver2/inttype_dev_occurrence.txt', 'w') as writer:\n",
    "    writer.write(f'0: DIST - {None}\\n')\n",
    "    writer.write(f'1: NOIT - {None}\\n')\n",
    "    for i, inttype in enumerate(inttype_list[2:], start=2):\n",
    "        writer.write('{}: {} - {}\\n'.format(i, inttype, dev_inttype_occ[i]))"
   ]
  },
  {
   "cell_type": "code",
   "execution_count": 82,
   "id": "3d94bafc-4254-499e-b6ec-91dc5f4ef3f2",
   "metadata": {},
   "outputs": [],
   "source": [
    "test_inttype_occ = [0 for _ in inttype_list]\n",
    "for (fasta, smiles), (int_dists, int_types, _, _, _) in test_d.items():\n",
    "    for inttype in set(int_types.values()):\n",
    "        test_inttype_occ[inttype] += 1\n",
    "with open('derived_dataset_ver2/inttype_test_occurrence.txt', 'w') as writer:\n",
    "    writer.write(f'0: DIST - {None}\\n')\n",
    "    writer.write(f'1: NOIT - {None}\\n')\n",
    "    for i, inttype in enumerate(inttype_list[2:], start=2):\n",
    "        writer.write('{}: {} - {}\\n'.format(i, inttype, test_inttype_occ[i]))"
   ]
  },
  {
   "cell_type": "code",
   "execution_count": 83,
   "id": "1b951080-a6f3-408b-8285-bbf0e5b69f7c",
   "metadata": {},
   "outputs": [
    {
     "data": {
      "text/plain": [
       "['DIST',\n",
       " 'NOIT',\n",
       " 'HBPD',\n",
       " 'HDPH',\n",
       " 'SBLN',\n",
       " 'PIST',\n",
       " 'WBPD',\n",
       " 'HBLD',\n",
       " 'WBLD',\n",
       " 'PCLA',\n",
       " 'MTAL',\n",
       " 'SBPN',\n",
       " 'HALO',\n",
       " 'PCPA']"
      ]
     },
     "execution_count": 83,
     "metadata": {},
     "output_type": "execute_result"
    }
   ],
   "source": [
    "inttype_list"
   ]
  },
  {
   "cell_type": "code",
   "execution_count": 85,
   "id": "fad32ebd-b90a-4804-8122-878709c469d3",
   "metadata": {},
   "outputs": [
    {
     "name": "stdout",
     "output_type": "stream",
     "text": [
      "[False  True  True  True  True  True  True  True  True  True  True  True\n",
      "  True  True  True  True  True  True  True  True  True  True  True  True\n",
      "  True  True  True  True  True  True  True  True  True  True  True  True\n",
      "  True  True  True  True  True  True  True  True  True  True  True  True\n",
      "  True  True  True  True  True  True  True  True  True  True  True  True\n",
      "  True  True  True  True  True  True  True  True  True  True  True  True\n",
      "  True  True  True  True  True  True  True  True  True  True  True  True\n",
      "  True  True  True  True  True  True  True  True  True  True  True  True\n",
      "  True  True  True  True  True  True  True  True  True  True  True  True\n",
      "  True  True  True  True  True  True  True  True  True  True  True  True\n",
      "  True  True  True  True  True  True  True  True  True  True  True  True\n",
      "  True  True  True  True  True  True  True  True  True  True  True  True\n",
      "  True  True  True  True  True  True  True  True  True  True  True  True\n",
      "  True  True  True  True  True  True  True  True  True  True  True  True\n",
      "  True  True  True  True  True  True  True  True  True  True  True  True\n",
      "  True  True  True  True  True  True  True  True  True  True  True  True\n",
      "  True  True  True  True  True  True  True  True  True  True  True  True\n",
      "  True  True  True  True  True  True  True  True  True  True  True  True\n",
      "  True  True  True  True  True  True  True  True  True  True  True  True\n",
      "  True  True  True  True  True  True  True  True  True  True  True  True\n",
      "  True  True  True  True  True  True  True  True]\n",
      "[False  True  True  True  True  True  True  True  True  True  True  True\n",
      "  True  True  True  True  True  True  True  True  True  True  True  True\n",
      "  True  True  True  True  True  True  True  True  True  True  True  True\n",
      "  True  True  True  True  True  True  True  True  True  True  True  True\n",
      "  True  True  True  True  True  True  True  True  True  True  True  True\n",
      "  True  True  True  True  True  True  True  True  True  True  True  True\n",
      "  True  True  True  True  True  True  True  True  True  True  True  True\n",
      "  True  True  True  True  True  True  True  True  True  True  True  True\n",
      "  True  True  True  True  True  True  True  True  True  True  True  True\n",
      "  True  True  True  True  True  True  True  True  True  True  True  True\n",
      "  True  True  True  True  True  True  True  True  True  True  True  True\n",
      "  True  True  True  True  True  True  True  True  True  True  True  True\n",
      "  True  True  True  True  True  True  True  True  True  True  True  True\n",
      "  True  True  True  True  True  True  True  True  True  True  True  True\n",
      "  True  True  True  True  True  True  True  True  True  True  True  True\n",
      "  True  True  True  True  True  True  True  True  True  True  True  True\n",
      "  True  True  True  True  True  True  True  True  True  True  True  True\n",
      "  True  True  True  True  True  True  True  True  True  True  True  True\n",
      "  True  True  True  True  True  True  True  True  True  True  True  True\n",
      "  True  True  True  True  True  True  True  True  True  True  True  True\n",
      "  True  True  True  True  True  True  True  True]\n",
      "[False  True  True  True  True  True  True  True  True  True  True  True\n",
      "  True  True  True  True  True  True  True  True  True  True  True  True\n",
      "  True  True  True  True  True  True  True  True  True  True  True  True\n",
      "  True  True  True  True  True  True  True  True  True  True  True  True\n",
      "  True  True  True  True  True  True  True  True  True  True  True  True\n",
      "  True  True  True  True  True  True  True  True  True  True  True  True\n",
      "  True  True  True  True  True  True  True  True  True  True  True  True\n",
      "  True  True  True  True  True  True  True  True  True  True  True  True\n",
      "  True  True  True  True  True  True  True  True  True  True  True  True\n",
      "  True  True  True  True  True  True  True  True  True  True  True  True\n",
      "  True  True  True  True  True  True  True  True  True  True  True  True\n",
      "  True  True  True  True  True  True  True  True  True  True  True  True\n",
      "  True  True  True  True  True  True  True  True  True  True  True  True\n",
      "  True  True  True  True  True  True  True  True  True  True  True  True\n",
      "  True  True  True  True  True  True  True  True  True  True  True  True\n",
      "  True  True  True  True  True  True  True  True  True  True  True  True\n",
      "  True  True  True  True  True  True  True  True  True  True  True  True\n",
      "  True  True  True  True  True  True  True  True  True  True  True  True\n",
      "  True  True  True  True  True  True  True  True  True  True  True  True\n",
      "  True  True  True  True  True  True  True  True  True  True  True  True\n",
      "  True  True  True  True  True  True  True  True]\n"
     ]
    }
   ],
   "source": [
    "for _, _, chainstr, _, res_mask in train_d.values():\n",
    "    if chainstr.startswith('5exz:A'):\n",
    "        print(res_mask)"
   ]
  },
  {
   "cell_type": "code",
   "execution_count": null,
   "id": "df9a7dc0-6776-43f9-96ec-a19276af2b36",
   "metadata": {},
   "outputs": [],
   "source": []
  }
 ],
 "metadata": {
  "kernelspec": {
   "display_name": "dti",
   "language": "python",
   "name": "dti"
  },
  "language_info": {
   "codemirror_mode": {
    "name": "ipython",
    "version": 3
   },
   "file_extension": ".py",
   "mimetype": "text/x-python",
   "name": "python",
   "nbconvert_exporter": "python",
   "pygments_lexer": "ipython3",
   "version": "3.9.9"
  }
 },
 "nbformat": 4,
 "nbformat_minor": 5
}
