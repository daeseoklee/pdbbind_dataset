{
 "cells": [
  {
   "cell_type": "markdown",
   "id": "92112943-0aec-44f5-91fe-fb1faf789001",
   "metadata": {},
   "source": [
    "## Intro\n",
    "PDBBind has its own way of cleaning up original PDB entries, some of them are investigated here \n",
    "## Conclusions\n",
    "\n",
    "* Most PDBBind PDB files have SEQRES records that **exactly** correspond to polymer-derived ATOM/HETATM records\n",
    "* There are ~70 exceptions, mostly due to dummy residues in SEQRES at the beginning or at the end \n",
    "* All none-polymer HETATM records were pushed to the end of the sequence section, with chainID information removed \n",
    "* There are **few** exceptions of polymer chains having empty chainID\n"
   ]
  },
  {
   "cell_type": "code",
   "execution_count": 2,
   "id": "52d03cd7-8a56-4b0d-96e1-250b65e1d5e1",
   "metadata": {},
   "outputs": [],
   "source": [
    "from matplotlib import pyplot as plt \n",
    "from pathlib import Path\n",
    "from tqdm import tqdm\n",
    "from rdkit import Chem\n",
    "from rdkit import RDLogger\n",
    "RDLogger.DisableLog('rdApp.*')"
   ]
  },
  {
   "cell_type": "code",
   "execution_count": 3,
   "id": "0115d736-2c53-49f4-b6a2-fd9ad824bd98",
   "metadata": {},
   "outputs": [],
   "source": [
    "general_set_dir = Path('../pdbbind/v2016/general-set-except-refined')\n",
    "refined_set_dir = Path('../pdbbind/v2016/refined-set')\n",
    "set_dirs = [general_set_dir, refined_set_dir]"
   ]
  },
  {
   "cell_type": "code",
   "execution_count": 4,
   "id": "410b9c60-2799-49a8-810d-ab6227b4e15f",
   "metadata": {},
   "outputs": [],
   "source": [
    "convert_residue = {\n",
    "'ALA':'A', 'VAL':'V', 'PHE':'F', 'PRO':'P', 'MET':'M',\n",
    "'ILE':'I', 'LEU':'L', 'ASP':'D', 'GLU':'E', 'LYS':'K',\n",
    "'ARG':'R', 'SER':'S', 'THR':'T', 'TYR':'Y', 'HIS':'H',\n",
    "'CYS':'C', 'ASN':'N', 'GLN':'Q', 'TRP':'W', 'GLY':'G',\n",
    "'MSE':'M', 'ASX':'B', 'UNK' : 'X', 'SEC':'U','PYL':'O'\n",
    "}"
   ]
  },
  {
   "cell_type": "code",
   "execution_count": null,
   "id": "347a2446-dd6d-45a2-9471-c3f1e55cf998",
   "metadata": {},
   "outputs": [],
   "source": [
    "s='PYTVVYFPVRGRCAALRMLLADQGQSWKEEVVTVETWQEGSLKASCLYGQLPKFQDGDLTLYQSNTILRHLGRTLGLYGKDQQEAALVDMVNDGVEDLRCKYISLIYTNYEAGKDDYVKALPGQLKPFETLLSQNQGGKTFIVGDQISFADYNLLDLLLIHEVLAPGCLDAFPLLSAYVGRLSARPKLKAFLASPEYVNLPINGNGKQPYTVVYFPVRGRCAALRMLLADQGQSWKEEVVTVETWQEGSLKASCLYGQLPKFQDGDLTLYQSNTILRHLGRTLGLYGKDQQEAALVDMVNDGVEDLRCKYISLIYTNYEAGKDDYVKALPGQLKPFETLLSQNQGGKTFIVGDQISFADYNLLDLLLIHEVLAPGCLDAFPLLSAYVGRLSARPKLKAFLASPEYVNLPINGNGKQ'"
   ]
  },
  {
   "cell_type": "code",
   "execution_count": null,
   "id": "df56bf94-5fc5-4645-a032-489c77c3e69e",
   "metadata": {},
   "outputs": [],
   "source": [
    "print(s[:208])\n",
    "print(s[:208] == s[208:])"
   ]
  },
  {
   "cell_type": "code",
   "execution_count": null,
   "id": "a72f05af-7942-4655-86f9-2c22404ac5e2",
   "metadata": {},
   "outputs": [],
   "source": [
    "len(s)"
   ]
  },
  {
   "cell_type": "code",
   "execution_count": null,
   "id": "8a4bbedf-a270-401b-a67d-50cc94f5409f",
   "metadata": {},
   "outputs": [],
   "source": [
    "for c in s:\n",
    "    assert c in convert_residue.values()"
   ]
  },
  {
   "cell_type": "code",
   "execution_count": 51,
   "id": "3c44eb43-2646-479c-b0ae-9323cbe45b98",
   "metadata": {},
   "outputs": [],
   "source": [
    "def parse_seqres(file, fasta=True):\n",
    "    seqs = {}\n",
    "    with open(file, 'r') as reader:\n",
    "        for line in reader:\n",
    "            if not line.startswith('SEQRES'):\n",
    "                continue\n",
    "            chainID = line[11]\n",
    "            if not chainID in seqs:\n",
    "                seqs[chainID] = []\n",
    "            subseq = [s.strip() for s in line[19:].split()]\n",
    "            seqs[chainID] += subseq\n",
    "        for chainID in seqs:\n",
    "            if fasta:\n",
    "                seqs[chainID] = ''.join([convert_residue.get(res, 'X') for res in seqs[chainID]])\n",
    "    return seqs"
   ]
  },
  {
   "cell_type": "code",
   "execution_count": 56,
   "id": "387dd79c-827d-4b0e-a087-b2382356d477",
   "metadata": {
    "tags": []
   },
   "outputs": [
    {
     "name": "stdout",
     "output_type": "stream",
     "text": [
      "../pdbbind/v2016/general-set-except-refined\n"
     ]
    },
    {
     "name": "stderr",
     "output_type": "stream",
     "text": [
      "100%|███████████████████████████████████████| 9228/9228 [01:18<00:00, 117.29it/s]\n"
     ]
    },
    {
     "name": "stdout",
     "output_type": "stream",
     "text": [
      "../pdbbind/v2016/refined-set\n"
     ]
    },
    {
     "name": "stderr",
     "output_type": "stream",
     "text": [
      "100%|███████████████████████████████████████| 4059/4059 [00:33<00:00, 119.84it/s]"
     ]
    },
    {
     "name": "stdout",
     "output_type": "stream",
     "text": [
      "70\n",
      "6359\n"
     ]
    },
    {
     "name": "stderr",
     "output_type": "stream",
     "text": [
      "\n"
     ]
    }
   ],
   "source": [
    "cc_lens = []\n",
    "sc_lens = []\n",
    "exceptions = []\n",
    "num_jump_occurred = 0\n",
    "for set_dir in set_dirs:\n",
    "    print(set_dir)\n",
    "    for data_dir in tqdm(list(set_dir.glob('*'))):\n",
    "        if data_dir.name in ['readme', 'index']:\n",
    "            continue\n",
    "        protein_file = data_dir / f'{data_dir.name}_protein.pdb'\n",
    "        seqres_dict = parse_seqres(protein_file, fasta=False) \n",
    "        chain_dict = {}\n",
    "        chainID = None \n",
    "        resSeq = None\n",
    "        iCode = None\n",
    "        jump_occurred = False\n",
    "        with open(protein_file, 'r') as f:\n",
    "            for line in f:\n",
    "                if line.startswith('ATOM') or line.startswith('HETATM'):\n",
    "                    prev_chainID = chainID\n",
    "                    prev_resSeq = resSeq\n",
    "                    prev_iCode = iCode\n",
    "                    \n",
    "                    chainID = line[21]\n",
    "                    resSeq = int(line[22:26])\n",
    "                    iCode = line[26]\n",
    "                    resname = line[17:20]\n",
    "                    \n",
    "                    if chainID == prev_chainID and resSeq > prev_resSeq + 1:\n",
    "                        jump_occurred = True\n",
    "                        pass\n",
    "                        #raise Exception(data_dir.name, chainID, resSeq) \n",
    "                    \n",
    "                    if chainID == ' ':\n",
    "                        continue \n",
    "                    \n",
    "                    if chainID in chain_dict:\n",
    "                        if prev_chainID != chainID:\n",
    "                            raise Exception('Non-continugous:', str(protein_file), chainID, resSeq)\n",
    "                    if (resSeq, iCode) != (prev_resSeq, prev_iCode):\n",
    "                        if not chainID in chain_dict:\n",
    "                            chain_dict[chainID] = []\n",
    "                        chain_dict[chainID].append(resname)\n",
    "        for chainID, chain in chain_dict.items():\n",
    "            seq = seqres_dict[chainID]\n",
    "            cc_lens.append(len(chain))\n",
    "            sc_lens.append(len(seq))\n",
    "            if chain != seq:\n",
    "                exceptions.append((data_dir.name, chainID, seq_len - len(chain)))\n",
    "        if jump_occurred:\n",
    "            num_jump_occurred += 1 \n",
    "\n",
    "print(len(exceptions))\n",
    "print(num_jump_occurred)\n",
    "                    \n",
    "\n",
    "                    "
   ]
  },
  {
   "cell_type": "code",
   "execution_count": 39,
   "id": "79c2db24-fa55-4bb1-aae0-c04e94e5542f",
   "metadata": {},
   "outputs": [
    {
     "data": {
      "text/plain": [
       "23023"
      ]
     },
     "execution_count": 39,
     "metadata": {},
     "output_type": "execute_result"
    }
   ],
   "source": [
    "len(cc_lens)"
   ]
  },
  {
   "cell_type": "code",
   "execution_count": 18,
   "id": "ce230abf-4fe4-453d-9f7f-7bfe66571e98",
   "metadata": {},
   "outputs": [
    {
     "data": {
      "text/plain": [
       "'../pdbbind/v2016/general-set-except-refined/2r3f/2r3f_protein.pdb'"
      ]
     },
     "execution_count": 18,
     "metadata": {},
     "output_type": "execute_result"
    }
   ],
   "source": [
    "examples['ACE']"
   ]
  },
  {
   "cell_type": "code",
   "execution_count": null,
   "id": "da6a2e67-e9f6-40f0-a9d3-d09d4108c97d",
   "metadata": {},
   "outputs": [],
   "source": [
    "fastas = []\n",
    "nums = []\n",
    "for set_dir in set_dirs:\n",
    "    print(set_dir)\n",
    "    for data_dir in tqdm(list(set_dir.glob('*'))):\n",
    "        if data_dir.name in ['readme', 'index']:\n",
    "            continue\n",
    "        protein_file = data_dir / f'{data_dir.name}_protein.pdb'\n",
    "        seqres_dict = parse_seqres(protein_file)\n",
    "        fasta = '^'.join(seqres_dict.values())\n",
    "        fastas.append(fasta)\n",
    "        nums.append(len(fasta))\n",
    "    "
   ]
  }
 ],
 "metadata": {
  "kernelspec": {
   "display_name": "dti",
   "language": "python",
   "name": "dti"
  },
  "language_info": {
   "codemirror_mode": {
    "name": "ipython",
    "version": 3
   },
   "file_extension": ".py",
   "mimetype": "text/x-python",
   "name": "python",
   "nbconvert_exporter": "python",
   "pygments_lexer": "ipython3",
   "version": "3.9.9"
  }
 },
 "nbformat": 4,
 "nbformat_minor": 5
}
